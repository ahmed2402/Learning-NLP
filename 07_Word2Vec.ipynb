{
 "cells": [
  {
   "cell_type": "markdown",
   "id": "d280c28e",
   "metadata": {},
   "source": [
    "## Word2Vec\n",
    "Word2Vec is a popular technique used in natural language processing to turn words into numerical vectors, so that computers can understand and work with text data. These vectors capture the meaning of words in such a way that similar words have similar vectors.\n",
    "\n",
    "### How does Word2Vec work?\n",
    " Word2Vec uses a neural network to learn word relationships from a large amount of text. It does this by looking at the context in which words appear. There are two main ways Word2Vec can be trained: CBOW and Skip-gram.\n",
    "\n",
    "### CBOW (Continuous Bag of Words):\n",
    " In CBOW, the model tries to predict a target word based on the words that come before and after it (the context). For example, given the sentence \"the cat sits on the mat\", if the context is [\"the\", \"cat\", \"on\", \"the\", \"mat\"], the model tries to predict the word \"sits\".\n",
    "\n",
    "### Skip-gram:\n",
    " In Skip-gram, the model does the opposite: it takes a single word and tries to predict the words around it (the context). Using the same sentence, if the target word is \"sits\", the model tries to predict [\"the\", \"cat\", \"on\", \"the\", \"mat\"].\n",
    "\n",
    "- In summary, CBOW predicts a word from its context, while Skip-gram predicts the context from a word.\n"
   ]
  },
  {
   "cell_type": "code",
   "execution_count": 3,
   "id": "8d86490a",
   "metadata": {},
   "outputs": [
    {
     "name": "stdout",
     "output_type": "stream",
     "text": [
      "Requirement already satisfied: gensim in c:\\users\\zainab\\anaconda3\\lib\\site-packages (4.3.3)\n",
      "Requirement already satisfied: nltk in c:\\users\\zainab\\anaconda3\\lib\\site-packages (3.9.1)\n",
      "Requirement already satisfied: numpy<2.0,>=1.18.5 in c:\\users\\zainab\\anaconda3\\lib\\site-packages (from gensim) (1.26.4)\n",
      "Requirement already satisfied: scipy<1.14.0,>=1.7.0 in c:\\users\\zainab\\anaconda3\\lib\\site-packages (from gensim) (1.11.4)\n",
      "Requirement already satisfied: smart-open>=1.8.1 in c:\\users\\zainab\\anaconda3\\lib\\site-packages (from gensim) (5.2.1)\n",
      "Requirement already satisfied: click in c:\\users\\zainab\\anaconda3\\lib\\site-packages (from nltk) (8.1.7)\n",
      "Requirement already satisfied: joblib in c:\\users\\zainab\\anaconda3\\lib\\site-packages (from nltk) (1.3.2)\n",
      "Requirement already satisfied: regex>=2021.8.3 in c:\\users\\zainab\\anaconda3\\lib\\site-packages (from nltk) (2024.9.11)\n",
      "Requirement already satisfied: tqdm in c:\\users\\zainab\\anaconda3\\lib\\site-packages (from nltk) (4.66.5)\n",
      "Requirement already satisfied: colorama in c:\\users\\zainab\\anaconda3\\lib\\site-packages (from click->nltk) (0.4.6)\n",
      "Requirement already satisfied: gensim in c:\\users\\zainab\\anaconda3\\lib\\site-packages (4.3.3)\n",
      "Requirement already satisfied: nltk in c:\\users\\zainab\\anaconda3\\lib\\site-packages (3.9.1)\n",
      "Requirement already satisfied: numpy<2.0,>=1.18.5 in c:\\users\\zainab\\anaconda3\\lib\\site-packages (from gensim) (1.26.4)\n",
      "Requirement already satisfied: scipy<1.14.0,>=1.7.0 in c:\\users\\zainab\\anaconda3\\lib\\site-packages (from gensim) (1.11.4)\n",
      "Requirement already satisfied: smart-open>=1.8.1 in c:\\users\\zainab\\anaconda3\\lib\\site-packages (from gensim) (5.2.1)\n",
      "Requirement already satisfied: click in c:\\users\\zainab\\anaconda3\\lib\\site-packages (from nltk) (8.1.7)\n",
      "Requirement already satisfied: joblib in c:\\users\\zainab\\anaconda3\\lib\\site-packages (from nltk) (1.3.2)\n",
      "Requirement already satisfied: regex>=2021.8.3 in c:\\users\\zainab\\anaconda3\\lib\\site-packages (from nltk) (2024.9.11)\n",
      "Requirement already satisfied: tqdm in c:\\users\\zainab\\anaconda3\\lib\\site-packages (from nltk) (4.66.5)\n",
      "Requirement already satisfied: colorama in c:\\users\\zainab\\anaconda3\\lib\\site-packages (from click->nltk) (0.4.6)\n"
     ]
    }
   ],
   "source": [
    "!pip install gensim nltk"
   ]
  },
  {
   "cell_type": "code",
   "execution_count": 1,
   "id": "ef7a7ca0",
   "metadata": {},
   "outputs": [
    {
     "name": "stderr",
     "output_type": "stream",
     "text": [
      "[nltk_data] Downloading package punkt to\n",
      "[nltk_data]     C:\\Users\\Zainab\\AppData\\Roaming\\nltk_data...\n",
      "[nltk_data]   Package punkt is already up-to-date!\n"
     ]
    }
   ],
   "source": [
    "from gensim.models import Word2Vec\n",
    "from nltk.tokenize import word_tokenize\n",
    "import nltk\n",
    "nltk.download('punkt')\n",
    "\n",
    "sentences = [\n",
    "    \"I love natural language processing\",\n",
    "    \"Word embeddings are amazing\",\n",
    "    \"I enjoy learning machine learning concepts\",\n",
    "    \"Deep learning uses neural networks\"\n",
    "]"
   ]
  },
  {
   "cell_type": "code",
   "execution_count": 2,
   "metadata": {},
   "outputs": [
    {
     "data": {
      "text/plain": [
       "[['i', 'love', 'natural', 'language', 'processing'],\n",
       " ['word', 'embeddings', 'are', 'amazing'],\n",
       " ['i', 'enjoy', 'learning', 'machine', 'learning', 'concepts'],\n",
       " ['deep', 'learning', 'uses', 'neural', 'networks']]"
      ]
     },
     "execution_count": 2,
     "metadata": {},
     "output_type": "execute_result"
    }
   ],
   "source": [
    "tokenized_sentences = [word_tokenize(sentence.lower()) for sentence in sentences]\n",
    "tokenized_sentences"
   ]
  },
  {
   "cell_type": "code",
   "execution_count": 14,
   "metadata": {},
   "outputs": [],
   "source": [
    "model = Word2Vec(\n",
    "    sentences=tokenized_sentences,\n",
    "    vector_size=100,    # Dimension of word vectors\n",
    "    window=5,          # Context window size\n",
    "    min_count=1,       # Ignore words with frequency < 1\n",
    "    workers=4,         # Parallel processing threads\n",
    "    sg = 1             # 0 for CBOW (default), 1 for skip-gram\n",
    ")"
   ]
  },
  {
   "cell_type": "code",
   "execution_count": 15,
   "id": "e48f8fb1",
   "metadata": {},
   "outputs": [
    {
     "data": {
      "text/plain": [
       "['learning',\n",
       " 'i',\n",
       " 'are',\n",
       " 'love',\n",
       " 'natural',\n",
       " 'language',\n",
       " 'processing',\n",
       " 'word',\n",
       " 'embeddings',\n",
       " 'networks',\n",
       " 'neural',\n",
       " 'enjoy',\n",
       " 'machine',\n",
       " 'concepts',\n",
       " 'deep',\n",
       " 'uses',\n",
       " 'amazing']"
      ]
     },
     "execution_count": 15,
     "metadata": {},
     "output_type": "execute_result"
    }
   ],
   "source": [
    "#PRINT VOCABULARY\n",
    "vocab =model.wv.index_to_key\n",
    "vocab"
   ]
  },
  {
   "cell_type": "code",
   "execution_count": 16,
   "metadata": {},
   "outputs": [
    {
     "name": "stdout",
     "output_type": "stream",
     "text": [
      "Vector for 'learning':\n",
      "[-0.00053595  0.00023651  0.00510366  0.00900947 -0.00930299]...\n"
     ]
    }
   ],
   "source": [
    "# Get vector for a word\n",
    "vector = model.wv['learning']  # Returns 100-dim vector\n",
    "print(f\"Vector for 'learning':\\n{vector[:5]}...\")  # Show first 5 dimensions"
   ]
  },
  {
   "cell_type": "code",
   "execution_count": 19,
   "metadata": {},
   "outputs": [
    {
     "name": "stdout",
     "output_type": "stream",
     "text": [
      "\n",
      "Words similar to 'learning':\n",
      "amazing: 0.219\n",
      "networks: 0.216\n",
      "machine: 0.093\n"
     ]
    }
   ],
   "source": [
    "# Find most similar words\n",
    "similar_words = model.wv.most_similar(\"learning\", topn=3) #top3 based on cosine similarity\n",
    "print(\"\\nWords similar to 'learning':\")\n",
    "for word, score in similar_words:\n",
    "    print(f\"{word}: {score:.3f}\")"
   ]
  },
  {
   "cell_type": "code",
   "execution_count": null,
   "id": "a25f26a1",
   "metadata": {},
   "outputs": [],
   "source": [
    "import gensim.downloader as api\n",
    "\n",
    "# Download pre-trained model (~1.6GB)\n",
    "google_model = api.load('word2vec-google-news-300')\n",
    "\n",
    "# Example usage\n",
    "similar_words = google_model.most_similar(\"computer\", topn=3)\n",
    "print(\"\\nGoogle News model results for 'computer':\")\n",
    "print(similar_words)"
   ]
  },
  {
   "cell_type": "code",
   "execution_count": 8,
   "id": "c9c86840",
   "metadata": {},
   "outputs": [
    {
     "data": {
      "image/png": "[encoded data removed]",
      "text/plain": [
       "<Figure size 1000x600 with 1 Axes>"
      ]
     },
     "metadata": {},
     "output_type": "display_data"
    }
   ],
   "source": [
    "from sklearn.decomposition import PCA\n",
    "import matplotlib.pyplot as plt\n",
    "\n",
    "# Get words and vectors\n",
    "words = [\"learning\", \"deep\", \"neural\", \"machine\", \"language\", \"processing\"]\n",
    "vectors = [model.wv[w] for w in words]\n",
    "\n",
    "# Reduce to 2D\n",
    "pca = PCA(n_components=2)\n",
    "vectors_2d = pca.fit_transform(vectors)\n",
    "\n",
    "# Plot\n",
    "plt.figure(figsize=(10,6))\n",
    "for i, word in enumerate(words):\n",
    "    plt.scatter(vectors_2d[i,0], vectors_2d[i,1])\n",
    "    plt.annotate(word, (vectors_2d[i,0], vectors_2d[i,1]))\n",
    "plt.title(\"Word2Vec Visualization\")\n",
    "plt.show()"
   ]
  },
  {
   "cell_type": "code",
   "execution_count": 10,
   "id": "c8d2fa56",
   "metadata": {},
   "outputs": [
    {
     "data": {
      "text/plain": [
       "[array([-4.9193189e-03,  2.3757902e-03, -8.2527910e-04, -1.3565359e-03,\n",
       "         1.2341191e-03, -9.3848165e-04,  3.1186361e-03,  3.7547562e-03,\n",
       "        -2.1259349e-03, -2.9685560e-03,  7.1259437e-04,  3.5466743e-05,\n",
       "        -3.5656828e-03,  5.2548607e-04, -1.6588913e-04, -1.6746868e-03,\n",
       "         3.1305975e-03,  1.7804892e-03, -1.3922907e-03, -1.8602908e-03,\n",
       "        -6.0307060e-04, -3.6473549e-03,  8.6465767e-03,  3.5586681e-03,\n",
       "        -2.2935572e-03,  9.9188951e-04,  6.5061171e-04, -1.6436559e-04,\n",
       "        -1.3227996e-03,  2.4473253e-03,  5.9710513e-03, -1.1548849e-03,\n",
       "        -2.3613621e-03, -4.4539617e-03,  2.0390779e-03,  3.2608281e-03,\n",
       "         2.4409848e-03, -1.5545636e-06, -2.9518837e-04,  1.6499385e-03,\n",
       "         5.9879245e-03, -4.3561487e-03, -2.3184738e-03, -7.2567293e-04,\n",
       "         2.6128062e-03,  2.0541113e-03,  7.6700543e-04, -1.2352406e-03,\n",
       "        -3.7804115e-04, -2.4016232e-03,  3.7188146e-03, -4.4554691e-03,\n",
       "        -1.1883881e-04,  1.3324548e-04, -5.2533848e-03, -1.1374380e-03,\n",
       "         1.7749751e-03, -1.8818791e-03, -2.0347186e-03, -3.8442500e-03,\n",
       "         9.3766087e-04, -6.4763910e-04,  4.2702160e-03, -2.4249596e-03,\n",
       "         9.8449888e-04,  1.4641501e-03,  2.3347754e-03,  1.8301874e-03,\n",
       "        -2.8130275e-03, -1.5299771e-03, -6.0541130e-04,  1.1787112e-03,\n",
       "         1.2665344e-03,  6.1153779e-03,  1.2200864e-03, -7.4480020e-04,\n",
       "        -3.9121318e-03,  4.5583956e-03,  8.6721778e-04, -1.2339102e-04,\n",
       "        -1.8244532e-03, -2.1718189e-03,  2.1969944e-03, -2.7200393e-03,\n",
       "        -1.9280646e-03, -5.5406140e-03,  4.3454110e-03,  2.9636687e-04,\n",
       "        -3.4421782e-03, -3.2437183e-03,  6.3363684e-04,  4.0587218e-04,\n",
       "        -1.0126649e-03, -3.6219142e-03,  3.7570645e-03,  1.7248454e-05,\n",
       "         4.8074117e-03, -3.8897884e-03, -1.9853974e-03,  1.7303452e-04],\n",
       "       dtype=float32),\n",
       " array([-3.9239530e-06, -5.5672508e-04,  2.7314047e-03,  3.8936781e-03,\n",
       "         4.0522395e-03,  3.0894314e-03,  1.8188539e-03,  5.1292847e-04,\n",
       "        -4.7814348e-03,  9.9393842e-04, -1.5480036e-03, -4.3945406e-03,\n",
       "         3.9280923e-03,  8.7788375e-04,  1.9856349e-03,  1.5643137e-03,\n",
       "        -1.3978422e-03,  1.9095351e-03, -6.0202256e-03, -6.5767914e-03,\n",
       "         6.5839430e-04,  4.5149359e-03,  2.5156864e-03, -4.8162867e-03,\n",
       "         9.0108562e-04,  3.3520539e-03,  2.2924670e-03, -1.8913338e-03,\n",
       "        -4.1592880e-03,  7.4542902e-04,  2.0804342e-03, -3.5656374e-03,\n",
       "        -3.6952499e-04, -1.8187335e-03, -2.3238121e-03,  1.6220501e-03,\n",
       "        -6.8661512e-04,  1.5683491e-03, -2.6520942e-03, -4.1164262e-03,\n",
       "         8.8671834e-05, -1.0863951e-03, -2.1971031e-03,  3.8064967e-03,\n",
       "         4.6888855e-03, -2.3664092e-04, -3.1869300e-03, -1.7916833e-03,\n",
       "         2.1449844e-03, -1.9646250e-05, -3.1336653e-03, -2.8038840e-03,\n",
       "         7.5210794e-04, -4.1691368e-03, -2.0218224e-03,  1.0775694e-03,\n",
       "        -3.5845279e-03, -2.4302318e-03, -1.7115974e-03, -9.1717328e-04,\n",
       "         2.6012203e-03, -1.6349445e-03,  3.9253761e-03,  3.5026758e-03,\n",
       "        -3.6718193e-03,  4.8129661e-03, -3.8466665e-03,  7.1960986e-03,\n",
       "        -2.9083416e-03,  1.9384304e-03,  1.2388661e-03,  3.6045890e-03,\n",
       "         3.9250720e-03,  1.3375550e-03, -3.6027099e-03, -1.1845150e-03,\n",
       "         4.8835846e-03, -3.8753189e-03, -3.0988851e-04, -3.5883198e-03,\n",
       "        -1.4359044e-03, -6.3365912e-03, -4.9408013e-03, -1.0396922e-03,\n",
       "         2.3342331e-04, -1.5536562e-03, -1.5396449e-03, -2.4789078e-03,\n",
       "         2.3336296e-03, -4.3178641e-04, -1.3106246e-04,  1.9145489e-03,\n",
       "         3.1261859e-03,  1.9338286e-03,  2.5633476e-03,  5.0749150e-03,\n",
       "        -6.9286127e-04,  1.2690038e-04,  2.6022661e-03, -3.1693093e-03],\n",
       "       dtype=float32),\n",
       " array([-1.89469568e-03,  2.76670582e-03,  3.05886311e-03,  2.81878957e-03,\n",
       "        -1.68901961e-03, -4.40331176e-03,  5.26779797e-04,  5.27755916e-03,\n",
       "        -2.02606618e-03, -4.07410925e-03,  1.35830545e-03, -1.55474024e-03,\n",
       "        -5.65593177e-03,  1.49655202e-03,  5.81282191e-04, -5.79307380e-04,\n",
       "         2.96285376e-03,  1.70951558e-03, -2.94532883e-03, -6.10874034e-03,\n",
       "         2.34472635e-03,  1.65904101e-04,  5.23344195e-03, -4.06316627e-04,\n",
       "         2.94612325e-03,  6.32214418e-04, -5.29360259e-03,  4.04888252e-03,\n",
       "        -2.25825771e-03,  2.38981447e-03, -1.37643272e-03, -1.05605565e-03,\n",
       "         4.62172786e-03, -4.15247772e-03,  1.43500583e-04, -2.26567290e-03,\n",
       "         1.25171675e-03, -7.72862404e-04,  8.11192440e-04, -1.39772089e-03,\n",
       "        -3.99733381e-03,  7.68748345e-04, -3.75284045e-03,  2.21929513e-04,\n",
       "        -2.78146542e-03, -2.04885774e-03,  9.14483157e-04,  1.94543030e-03,\n",
       "         1.46570802e-03,  5.20391064e-03,  1.23051621e-04, -1.96915516e-03,\n",
       "        -1.33813825e-03,  9.47500404e-04,  1.53642253e-03, -3.92123475e-04,\n",
       "         3.38042434e-03, -7.60822222e-05, -6.07462425e-04,  6.36166846e-03,\n",
       "        -2.42873351e-03,  9.64904961e-04,  1.11860376e-04, -2.07171007e-03,\n",
       "        -3.65365762e-04,  2.85831443e-03,  5.30872168e-03,  2.84956396e-03,\n",
       "        -1.77255867e-03,  2.33405433e-03,  1.30549551e-03,  3.23744607e-03,\n",
       "         1.68127779e-04, -1.64630229e-03,  3.14228307e-03,  1.65145274e-03,\n",
       "         7.80668634e-04,  3.02692555e-04, -1.13051163e-03, -4.96092252e-03,\n",
       "        -3.28498543e-03,  3.26588680e-03,  2.77058221e-03,  3.48187168e-03,\n",
       "        -8.92655458e-04,  8.67386756e-04,  3.72059830e-03, -3.77801061e-03,\n",
       "        -7.19907475e-05,  1.63182057e-03,  3.35959159e-03,  3.52417119e-05,\n",
       "         1.34251581e-03, -2.11123936e-03,  3.53064365e-03,  5.17901673e-04,\n",
       "        -4.95115120e-04, -2.76668835e-03, -2.02723756e-03,  5.44522190e-03],\n",
       "       dtype=float32),\n",
       " array([ 3.8028555e-04,  1.0708285e-03,  1.7145646e-03,  1.3893105e-03,\n",
       "        -3.1558448e-03, -5.7745813e-03, -4.1109807e-04,  5.3594457e-03,\n",
       "        -1.3015224e-03, -3.3207764e-03,  4.4665639e-03, -5.2887159e-03,\n",
       "        -1.8474540e-03,  9.3334820e-06, -3.1675126e-03,  2.7465429e-03,\n",
       "         2.2081386e-03, -1.8177086e-03,  1.5808695e-03, -5.0473399e-03,\n",
       "         2.0117601e-03,  3.7562586e-03,  5.5026577e-04, -2.0838664e-03,\n",
       "        -1.0720495e-03,  9.2987808e-05, -1.9252250e-03,  3.4603328e-03,\n",
       "         1.0242270e-03, -3.4814924e-03, -3.4837928e-03, -1.0011829e-03,\n",
       "         5.1649120e-03,  2.5074077e-03, -3.1454773e-03,  1.5499046e-03,\n",
       "         6.0524852e-03, -6.4452447e-04, -2.7613163e-03,  3.2490436e-03,\n",
       "         1.9284345e-03,  1.0130184e-03, -3.6676682e-03,  2.0152791e-03,\n",
       "         3.5731361e-04,  2.0691855e-03, -5.1984726e-03,  4.8925320e-04,\n",
       "         7.9023064e-04,  2.4253088e-03, -2.4992200e-03,  2.5944908e-03,\n",
       "         2.6352494e-04,  2.2096056e-03,  1.8938739e-03, -2.7885088e-03,\n",
       "         2.6108497e-03, -1.6482627e-03,  3.6257952e-03,  4.7073145e-03,\n",
       "        -3.7808579e-03, -1.0803349e-03,  1.1063146e-03, -7.3521282e-04,\n",
       "        -8.5865409e-04,  4.3336125e-04, -3.8582578e-03, -1.1220023e-03,\n",
       "         1.1551788e-03, -5.1151053e-04, -4.0052561e-04,  2.8629068e-03,\n",
       "         5.9273158e-04, -3.0578314e-03,  2.6432958e-03,  1.0469694e-03,\n",
       "         4.9140779e-03, -2.9877478e-03,  4.5769141e-04, -9.7543496e-04,\n",
       "        -1.4930656e-03,  1.7849710e-03,  2.2073691e-03,  3.7120960e-03,\n",
       "        -3.2060326e-03,  1.6309094e-03, -1.2044117e-03, -5.6574808e-04,\n",
       "         2.9687702e-03,  3.7002980e-03,  7.5648318e-04,  3.1346157e-03,\n",
       "         1.1318974e-03,  2.2172921e-03,  2.0244333e-03, -3.1390664e-04,\n",
       "        -4.1770880e-04,  2.2039060e-03,  3.0127044e-03,  3.5961200e-03],\n",
       "       dtype=float32)]"
      ]
     },
     "execution_count": 10,
     "metadata": {},
     "output_type": "execute_result"
    }
   ],
   "source": [
    "import numpy as np\n",
    "\n",
    "def document_vector(model, doc):\n",
    "    # Remove out-of-vocabulary words\n",
    "    words = [w for w in doc if w in model.wv]\n",
    "    if len(words) == 0:\n",
    "        return np.zeros(model.vector_size)\n",
    "    return np.mean(model.wv[words], axis=0)\n",
    "\n",
    "# Convert all documents to vectors\n",
    "doc_vectors = [document_vector(model, doc) for doc in tokenized_sentences]\n",
    "doc_vectors"
   ]
  }
 ],
 "metadata": {
  "kernelspec": {
   "display_name": "base",
   "language": "python",
   "name": "python3"
  },
  "language_info": {
   "codemirror_mode": {
    "name": "ipython",
    "version": 3
   },
   "file_extension": ".py",
   "mimetype": "text/x-python",
   "name": "python",
   "nbconvert_exporter": "python",
   "pygments_lexer": "ipython3",
   "version": "3.12.7"
  }
 },
 "nbformat": 4,
 "nbformat_minor": 5
}
