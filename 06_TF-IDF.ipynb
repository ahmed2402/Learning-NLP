{
 "cells": [
  {
   "cell_type": "markdown",
   "id": "14e922d4",
   "metadata": {},
   "source": [
    "# TF-IDF\n",
    "It is a numerical statistic used to reflect how important a word is to a document in a collection (corpus).\n",
    "**In simple words:**  \n",
    "TF-IDF helps us find out which words are most unique and important in a document compared to all other documents.\n",
    "\n",
    "**Formulas:**\n",
    "1. **Term Frequency (TF):**  \n",
    "    Measures how frequently a term appears in a document.  \n",
    "    TF = (Number of times term t appears in a document) / (Total number of terms in the document)\n",
    "\n",
    "2. **Inverse Document Frequency (IDF):**  \n",
    "    Measures how important a term is across all documents.  \n",
    "    IDF = log_e(Total number of documents / Number of documents containing the term t)\n",
    "\n",
    "3. **TF-IDF:**  \n",
    "    TF-IDF = TF * IDF\n",
    "\n",
    "**How it is calculated:**  \n",
    "- For each word in a document, calculate its TF (how often it appears in that document).  \n",
    "- Calculate its IDF (how rare it is across all documents).  \n",
    "- Multiply TF and IDF to get the TF-IDF score for that word in that document.\n",
    "\n",
    "**Meaning of its outputs:**  \n",
    "- A high TF-IDF score means the word is important for that document (it appears often in that document but not in many others).  \n",
    "- A low TF-IDF score means the word is either common across all documents or does not appear often in the document.\n"
   ]
  },
  {
   "cell_type": "code",
   "execution_count": 4,
   "id": "4931a713",
   "metadata": {},
   "outputs": [
    {
     "name": "stderr",
     "output_type": "stream",
     "text": [
      "[nltk_data] Downloading package stopwords to\n",
      "[nltk_data]     C:\\Users\\Zainab\\AppData\\Roaming\\nltk_data...\n",
      "[nltk_data]   Package stopwords is already up-to-date!\n"
     ]
    }
   ],
   "source": [
    "from nltk.corpus import stopwords\n",
    "import nltk\n",
    "nltk.download('stopwords')\n",
    "\n",
    "stop_words = list(stopwords.words('english'))\n",
    "documents = [\n",
    "    \"the cat sat on the mat\",\n",
    "    \"the dog sat on the log\",\n",
    "    \"cats and dogs are pets\",\n",
    "    \"this log is made of wood\"\n",
    "]"
   ]
  },
  {
   "cell_type": "code",
   "execution_count": 7,
   "id": "afb26393",
   "metadata": {},
   "outputs": [],
   "source": [
    "from sklearn.feature_extraction.text import TfidfVectorizer\n",
    "import pandas as pd\n",
    "\n",
    "tdidf_vectorizer = TfidfVectorizer(\n",
    "    ngram_range=(1, 1),\n",
    "    lowercase=True,\n",
    "    stop_words=stop_words,\n",
    "    token_pattern=r'(?u)\\b[a-zA-Z]{2,}\\b'\n",
    ")\n",
    "\n",
    "X = tdidf_vectorizer.fit_transform(documents)\n",
    "\n",
    "vocab = tdidf_vectorizer.get_feature_names_out()"
   ]
  },
  {
   "cell_type": "code",
   "execution_count": 11,
   "id": "a8e564c8",
   "metadata": {},
   "outputs": [
    {
     "data": {
      "text/html": [
       "<div>\n",
       "<style scoped>\n",
       "    .dataframe tbody tr th:only-of-type {\n",
       "        vertical-align: middle;\n",
       "    }\n",
       "\n",
       "    .dataframe tbody tr th {\n",
       "        vertical-align: top;\n",
       "    }\n",
       "\n",
       "    .dataframe thead th {\n",
       "        text-align: right;\n",
       "    }\n",
       "</style>\n",
       "<table border=\"1\" class=\"dataframe\">\n",
       "  <thead>\n",
       "    <tr style=\"text-align: right;\">\n",
       "      <th></th>\n",
       "      <th>cat</th>\n",
       "      <th>cats</th>\n",
       "      <th>dog</th>\n",
       "      <th>dogs</th>\n",
       "      <th>log</th>\n",
       "      <th>made</th>\n",
       "      <th>mat</th>\n",
       "      <th>pets</th>\n",
       "      <th>sat</th>\n",
       "      <th>wood</th>\n",
       "    </tr>\n",
       "  </thead>\n",
       "  <tbody>\n",
       "    <tr>\n",
       "      <th>the cat sat on the mat</th>\n",
       "      <td>0.617614</td>\n",
       "      <td>0.00000</td>\n",
       "      <td>0.000000</td>\n",
       "      <td>0.00000</td>\n",
       "      <td>0.000000</td>\n",
       "      <td>0.000000</td>\n",
       "      <td>0.617614</td>\n",
       "      <td>0.00000</td>\n",
       "      <td>0.486934</td>\n",
       "      <td>0.000000</td>\n",
       "    </tr>\n",
       "    <tr>\n",
       "      <th>the dog sat on the log</th>\n",
       "      <td>0.000000</td>\n",
       "      <td>0.00000</td>\n",
       "      <td>0.667679</td>\n",
       "      <td>0.00000</td>\n",
       "      <td>0.526405</td>\n",
       "      <td>0.000000</td>\n",
       "      <td>0.000000</td>\n",
       "      <td>0.00000</td>\n",
       "      <td>0.526405</td>\n",
       "      <td>0.000000</td>\n",
       "    </tr>\n",
       "    <tr>\n",
       "      <th>cats and dogs are pets</th>\n",
       "      <td>0.000000</td>\n",
       "      <td>0.57735</td>\n",
       "      <td>0.000000</td>\n",
       "      <td>0.57735</td>\n",
       "      <td>0.000000</td>\n",
       "      <td>0.000000</td>\n",
       "      <td>0.000000</td>\n",
       "      <td>0.57735</td>\n",
       "      <td>0.000000</td>\n",
       "      <td>0.000000</td>\n",
       "    </tr>\n",
       "    <tr>\n",
       "      <th>this log is made of wood</th>\n",
       "      <td>0.000000</td>\n",
       "      <td>0.00000</td>\n",
       "      <td>0.000000</td>\n",
       "      <td>0.00000</td>\n",
       "      <td>0.486934</td>\n",
       "      <td>0.617614</td>\n",
       "      <td>0.000000</td>\n",
       "      <td>0.00000</td>\n",
       "      <td>0.000000</td>\n",
       "      <td>0.617614</td>\n",
       "    </tr>\n",
       "  </tbody>\n",
       "</table>\n",
       "</div>"
      ],
      "text/plain": [
       "                               cat     cats       dog     dogs       log  \\\n",
       "the cat sat on the mat    0.617614  0.00000  0.000000  0.00000  0.000000   \n",
       "the dog sat on the log    0.000000  0.00000  0.667679  0.00000  0.526405   \n",
       "cats and dogs are pets    0.000000  0.57735  0.000000  0.57735  0.000000   \n",
       "this log is made of wood  0.000000  0.00000  0.000000  0.00000  0.486934   \n",
       "\n",
       "                              made       mat     pets       sat      wood  \n",
       "the cat sat on the mat    0.000000  0.617614  0.00000  0.486934  0.000000  \n",
       "the dog sat on the log    0.000000  0.000000  0.00000  0.526405  0.000000  \n",
       "cats and dogs are pets    0.000000  0.000000  0.57735  0.000000  0.000000  \n",
       "this log is made of wood  0.617614  0.000000  0.00000  0.000000  0.617614  "
      ]
     },
     "execution_count": 11,
     "metadata": {},
     "output_type": "execute_result"
    }
   ],
   "source": [
    "import pandas as pd\n",
    "\n",
    "df = pd.DataFrame(\n",
    "    X.toarray(),\n",
    "    columns=vocab,\n",
    "    index=documents\n",
    ")\n",
    "df"
   ]
  },
  {
   "cell_type": "code",
   "execution_count": 12,
   "id": "18931ca1",
   "metadata": {},
   "outputs": [
    {
     "name": "stdout",
     "output_type": "stream",
     "text": [
      "['ai' 'back' 'love' 'loves' 'me']\n",
      "[[0.57973867 0.         0.81480247 0.         0.        ]\n",
      " [0.37997836 0.53404633 0.         0.53404633 0.53404633]]\n"
     ]
    }
   ],
   "source": [
    "from sklearn.feature_extraction.text import TfidfVectorizer\n",
    "\n",
    "corpus = [\"I love AI\", \"AI loves me back\"]\n",
    "vectorizer = TfidfVectorizer()\n",
    "X = vectorizer.fit_transform(corpus)\n",
    "\n",
    "print(vectorizer.get_feature_names_out())\n",
    "print(X.toarray())"
   ]
  }
 ],
 "metadata": {
  "kernelspec": {
   "display_name": "base",
   "language": "python",
   "name": "python3"
  },
  "language_info": {
   "codemirror_mode": {
    "name": "ipython",
    "version": 3
   },
   "file_extension": ".py",
   "mimetype": "text/x-python",
   "name": "python",
   "nbconvert_exporter": "python",
   "pygments_lexer": "ipython3",
   "version": "3.12.7"
  }
 },
 "nbformat": 4,
 "nbformat_minor": 5
}
